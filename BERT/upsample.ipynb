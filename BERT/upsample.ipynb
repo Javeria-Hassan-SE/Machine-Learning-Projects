{
 "cells": [
  {
   "cell_type": "code",
   "execution_count": 1,
   "metadata": {
    "colab": {
     "base_uri": "https://localhost:8080/"
    },
    "id": "uVA12CHOKQo3",
    "outputId": "9178ad4b-d073-4437-a5a9-1784c2c749c4"
   },
   "outputs": [
    {
     "name": "stdout",
     "output_type": "stream",
     "text": [
      "Defaulting to user installation because normal site-packages is not writeable\n",
      "Requirement already satisfied: opendatasets in c:\\users\\hp\\appdata\\roaming\\python\\python39\\site-packages (0.1.22)\n",
      "Requirement already satisfied: tqdm in c:\\programdata\\anaconda3\\lib\\site-packages (from opendatasets) (4.64.1)\n",
      "Requirement already satisfied: click in c:\\programdata\\anaconda3\\lib\\site-packages (from opendatasets) (8.0.4)\n",
      "Requirement already satisfied: kaggle in c:\\users\\hp\\appdata\\roaming\\python\\python39\\site-packages (from opendatasets) (1.5.16)\n",
      "Requirement already satisfied: colorama in c:\\users\\hp\\appdata\\roaming\\python\\python39\\site-packages (from click->opendatasets) (0.4.1)\n",
      "Requirement already satisfied: certifi in c:\\users\\hp\\appdata\\roaming\\python\\python39\\site-packages (from kaggle->opendatasets) (2019.9.11)\n",
      "Requirement already satisfied: requests in c:\\programdata\\anaconda3\\lib\\site-packages (from kaggle->opendatasets) (2.28.1)\n",
      "Requirement already satisfied: urllib3 in c:\\programdata\\anaconda3\\lib\\site-packages (from kaggle->opendatasets) (1.26.11)\n",
      "Requirement already satisfied: python-slugify in c:\\programdata\\anaconda3\\lib\\site-packages (from kaggle->opendatasets) (5.0.2)\n",
      "Requirement already satisfied: python-dateutil in c:\\programdata\\anaconda3\\lib\\site-packages (from kaggle->opendatasets) (2.8.2)\n",
      "Requirement already satisfied: six>=1.10 in c:\\users\\hp\\appdata\\roaming\\python\\python39\\site-packages (from kaggle->opendatasets) (1.15.0)\n",
      "Requirement already satisfied: bleach in c:\\users\\hp\\appdata\\roaming\\python\\python39\\site-packages (from kaggle->opendatasets) (3.1.0)\n",
      "Requirement already satisfied: webencodings in c:\\programdata\\anaconda3\\lib\\site-packages (from bleach->kaggle->opendatasets) (0.5.1)\n",
      "Requirement already satisfied: text-unidecode>=1.3 in c:\\programdata\\anaconda3\\lib\\site-packages (from python-slugify->kaggle->opendatasets) (1.3)\n",
      "Requirement already satisfied: idna<4,>=2.5 in c:\\programdata\\anaconda3\\lib\\site-packages (from requests->kaggle->opendatasets) (3.3)\n",
      "Requirement already satisfied: charset-normalizer<3,>=2 in c:\\programdata\\anaconda3\\lib\\site-packages (from requests->kaggle->opendatasets) (2.0.4)\n"
     ]
    },
    {
     "name": "stderr",
     "output_type": "stream",
     "text": [
      "\n",
      "[notice] A new release of pip available: 22.3.1 -> 23.3.2\n",
      "[notice] To update, run: python.exe -m pip install --upgrade pip\n"
     ]
    },
    {
     "name": "stdout",
     "output_type": "stream",
     "text": [
      "Defaulting to user installation because normal site-packages is not writeable\n",
      "Requirement already satisfied: contractions in c:\\users\\hp\\appdata\\roaming\\python\\python39\\site-packages (0.1.73)\n",
      "Requirement already satisfied: textsearch>=0.0.21 in c:\\users\\hp\\appdata\\roaming\\python\\python39\\site-packages (from contractions) (0.0.24)\n",
      "Requirement already satisfied: pyahocorasick in c:\\users\\hp\\appdata\\roaming\\python\\python39\\site-packages (from textsearch>=0.0.21->contractions) (2.0.0)\n",
      "Requirement already satisfied: anyascii in c:\\users\\hp\\appdata\\roaming\\python\\python39\\site-packages (from textsearch>=0.0.21->contractions) (0.3.2)\n"
     ]
    },
    {
     "name": "stderr",
     "output_type": "stream",
     "text": [
      "\n",
      "[notice] A new release of pip available: 22.3.1 -> 23.3.2\n",
      "[notice] To update, run: python.exe -m pip install --upgrade pip\n"
     ]
    },
    {
     "name": "stdout",
     "output_type": "stream",
     "text": [
      "Defaulting to user installation because normal site-packages is not writeable\n",
      "Requirement already satisfied: autocorrect in c:\\users\\hp\\appdata\\roaming\\python\\python39\\site-packages (2.6.1)\n"
     ]
    },
    {
     "name": "stderr",
     "output_type": "stream",
     "text": [
      "\n",
      "[notice] A new release of pip available: 22.3.1 -> 23.3.2\n",
      "[notice] To update, run: python.exe -m pip install --upgrade pip\n"
     ]
    },
    {
     "name": "stdout",
     "output_type": "stream",
     "text": [
      "Defaulting to user installation because normal site-packages is not writeable\n",
      "Requirement already satisfied: openpyxl in c:\\users\\hp\\appdata\\roaming\\python\\python39\\site-packages (3.1.2)\n",
      "Requirement already satisfied: et-xmlfile in c:\\programdata\\anaconda3\\lib\\site-packages (from openpyxl) (1.1.0)\n"
     ]
    },
    {
     "name": "stderr",
     "output_type": "stream",
     "text": [
      "\n",
      "[notice] A new release of pip available: 22.3.1 -> 23.3.2\n",
      "[notice] To update, run: python.exe -m pip install --upgrade pip\n"
     ]
    }
   ],
   "source": [
    "!pip install opendatasets\n",
    "!pip install contractions\n",
    "!pip install autocorrect\n",
    "!pip install openpyxl -U"
   ]
  },
  {
   "cell_type": "code",
   "execution_count": 1,
   "metadata": {
    "id": "KOuzuv5ePDqh"
   },
   "outputs": [],
   "source": [
    "\n",
    "# library imports\n",
    "import pandas as pd\n",
    "import opendatasets\n",
    "import contractions\n",
    "from autocorrect import Speller\n",
    "import matplotlib.pyplot as plt\n",
    "import seaborn as sns\n",
    "from tqdm.notebook import tqdm_notebook\n",
    "import nltk\n",
    "import re"
   ]
  },
  {
   "cell_type": "code",
   "execution_count": 2,
   "metadata": {
    "id": "dmw_gLiIPGTW"
   },
   "outputs": [],
   "source": [
    "tqdm_notebook.pandas()\n"
   ]
  },
  {
   "cell_type": "code",
   "execution_count": 3,
   "metadata": {
    "id": "xhra6-gnPNXI"
   },
   "outputs": [],
   "source": [
    "\n",
    "# load the dataset\n",
    "raw_data = pd.read_excel('BERT Dataset.xlsx')"
   ]
  },
  {
   "cell_type": "code",
   "execution_count": 4,
   "metadata": {
    "colab": {
     "base_uri": "https://localhost:8080/"
    },
    "id": "8rNiyrC1PVHQ",
    "outputId": "b5fc3500-5cf2-40a9-9459-cb9e545594c6"
   },
   "outputs": [
    {
     "data": {
      "text/plain": [
       "Index(['Sentences', 'Broken Sentences', 'OpinionTerm1',\n",
       "       'Predicted Opinion Term 1', 'Aspect Category1', 'AspectPolarity1 ',\n",
       "       'OpinionTerm2', 'Predicted Opinion Term 2', 'Aspect Category2',\n",
       "       'Aspectpolarity2'],\n",
       "      dtype='object')"
      ]
     },
     "execution_count": 4,
     "metadata": {},
     "output_type": "execute_result"
    }
   ],
   "source": [
    "raw_data .columns"
   ]
  },
  {
   "cell_type": "code",
   "execution_count": 5,
   "metadata": {
    "id": "EKQ6Q8dk3AVq"
   },
   "outputs": [],
   "source": [
    "mapping = {\n",
    "    'Company_Service': 'Company_Service',\n",
    "    'App_Utility': 'App_Utility',\n",
    "    'service_quality': 'service_quality',\n",
    "    'service_person_attitude': 'service_person_attitude',\n",
    "    'Cost': 'Cost',\n",
    "    'App_UI': 'App_UI',\n",
    "    'App_Functionality': 'App_Functionality',\n",
    "    'service_schedule': 'service_schedule',\n",
    "    'Customer_Support': 'Customer_Support',\n",
    "    'cost': 'Cost',\n",
    "    'Company_service': 'Company_Service',\n",
    "    'Payment': 'Payment',\n",
    "    'payment': 'Payment',\n",
    "    'Customer_Suppor': 'Customer_Support'\n",
    "}\n",
    "\n",
    "# Replace variations with the standard name\n",
    "raw_data['Aspect Category1'] = raw_data['Aspect Category1'].map(mapping)"
   ]
  },
  {
   "cell_type": "code",
   "execution_count": 6,
   "metadata": {
    "id": "aJRAI0gP5D8P"
   },
   "outputs": [],
   "source": [
    "raw_data.columns = raw_data.columns.str.strip()"
   ]
  },
  {
   "cell_type": "code",
   "execution_count": 7,
   "metadata": {
    "colab": {
     "base_uri": "https://localhost:8080/"
    },
    "id": "lzYDynrI3-3p",
    "outputId": "b4b4f7d5-dbba-4d51-fa02-23669c40cd55"
   },
   "outputs": [
    {
     "name": "stdout",
     "output_type": "stream",
     "text": [
      "['positive' 'negative ' 'Positive' 'positive ']\n"
     ]
    }
   ],
   "source": [
    "print(raw_data['AspectPolarity1'].unique())\n"
   ]
  },
  {
   "cell_type": "code",
   "execution_count": 8,
   "metadata": {
    "colab": {
     "base_uri": "https://localhost:8080/"
    },
    "id": "Z4YOIXgKSrRB",
    "outputId": "7f3963aa-81e0-4b23-bd1c-8bb5ba526812"
   },
   "outputs": [
    {
     "name": "stdout",
     "output_type": "stream",
     "text": [
      "['positive' 'negative']\n"
     ]
    }
   ],
   "source": [
    "# Assuming raw_data is your DataFrame\n",
    "\n",
    "# Mapping with variations\n",
    "mapping = {\n",
    "    'positive': 'positive',\n",
    "    'Positive': 'positive',\n",
    "    'positive ': 'positive',\n",
    "    'positive  ': 'positive',  # Add more variations as needed\n",
    "    'negative': 'negative',\n",
    "    'Negative': 'negative',\n",
    "    'negative ': 'negative',\n",
    "    'negative  ': 'negative'  # Add more variations as needed\n",
    "}\n",
    "\n",
    "# Apply the mapping after converting to lowercase for case-insensitivity\n",
    "raw_data['AspectPolarity1'] = raw_data['AspectPolarity1'].str.lower().map(mapping)\n",
    "\n",
    "# Check unique values\n",
    "unique_values = raw_data['AspectPolarity1'].unique()\n",
    "print(unique_values)\n",
    "\n"
   ]
  },
  {
   "cell_type": "code",
   "execution_count": 9,
   "metadata": {
    "colab": {
     "base_uri": "https://localhost:8080/"
    },
    "id": "Av3I0UJw20l9",
    "outputId": "d92c8c46-442b-454d-9d12-5f466f66f250"
   },
   "outputs": [
    {
     "data": {
      "text/plain": [
       "array(['positive', 'negative'], dtype=object)"
      ]
     },
     "execution_count": 9,
     "metadata": {},
     "output_type": "execute_result"
    }
   ],
   "source": [
    "raw_data['AspectPolarity1'].unique()"
   ]
  },
  {
   "cell_type": "code",
   "execution_count": 10,
   "metadata": {
    "id": "q3pRz1nuPdln"
   },
   "outputs": [],
   "source": [
    "\n",
    "# define observation counts within each class\n",
    "class_counts = raw_data['Aspect Category1'].value_counts()"
   ]
  },
  {
   "cell_type": "code",
   "execution_count": 11,
   "metadata": {
    "colab": {
     "base_uri": "https://localhost:8080/"
    },
    "id": "dGjOmiFjPrJE",
    "outputId": "f6a52a5b-3271-4a7e-9a74-8271f405c47c"
   },
   "outputs": [
    {
     "data": {
      "text/plain": [
       "Aspect Category1\n",
       "Company_Service            2366\n",
       "App_Utility                 578\n",
       "service_quality             574\n",
       "service_person_attitude     189\n",
       "Cost                        136\n",
       "App_UI                       74\n",
       "App_Functionality            66\n",
       "service_schedule             51\n",
       "Customer_Support             50\n",
       "Payment                       9\n",
       "Name: count, dtype: int64"
      ]
     },
     "execution_count": 11,
     "metadata": {},
     "output_type": "execute_result"
    }
   ],
   "source": [
    "class_counts"
   ]
  },
  {
   "cell_type": "code",
   "execution_count": 12,
   "metadata": {
    "colab": {
     "base_uri": "https://localhost:8080/",
     "height": 618
    },
    "id": "E6ZH-K5aPyT5",
    "outputId": "b44df5d3-c2ce-4e3b-fb4c-91f87b8b6d76"
   },
   "outputs": [
    {
     "name": "stderr",
     "output_type": "stream",
     "text": [
      "C:\\Users\\HP\\AppData\\Roaming\\Python\\Python39\\site-packages\\seaborn\\_oldcore.py:1498: FutureWarning: is_categorical_dtype is deprecated and will be removed in a future version. Use isinstance(dtype, CategoricalDtype) instead\n",
      "  if pd.api.types.is_categorical_dtype(vector):\n",
      "C:\\Users\\HP\\AppData\\Roaming\\Python\\Python39\\site-packages\\seaborn\\_oldcore.py:1498: FutureWarning: is_categorical_dtype is deprecated and will be removed in a future version. Use isinstance(dtype, CategoricalDtype) instead\n",
      "  if pd.api.types.is_categorical_dtype(vector):\n",
      "C:\\Users\\HP\\AppData\\Roaming\\Python\\Python39\\site-packages\\seaborn\\_oldcore.py:1498: FutureWarning: is_categorical_dtype is deprecated and will be removed in a future version. Use isinstance(dtype, CategoricalDtype) instead\n",
      "  if pd.api.types.is_categorical_dtype(vector):\n"
     ]
    },
    {
     "data": {
      "image/png": "[encoded data removed]",
      "text/plain": [
       "<Figure size 700x500 with 1 Axes>"
      ]
     },
     "metadata": {},
     "output_type": "display_data"
    }
   ],
   "source": [
    "# display a bar chart of the distribution\n",
    "plt.figure(figsize = (7, 5))\n",
    "\n",
    "# define colors\n",
    "colors = ['#528CAD' if (x < max(class_counts)) else '#FF914D' for x in class_counts]\n",
    "\n",
    "ax = sns.countplot(x=raw_data['Aspect Category1'],\n",
    "                   data=raw_data,\n",
    "                   palette=colors)\n",
    "ax.set(title='Imbalanced Class Distribution')\n",
    "\n",
    "# place labels above each bar\n",
    "vals = class_counts.to_list()\n",
    "vals.sort()\n",
    "ax_labels = vals\n",
    "rects = ax.patches\n",
    "labels = [ax_labels[i] for i in range(len(rects))]\n",
    "\n",
    "for rect, label in zip(rects, labels):\n",
    "    height = rect.get_height()\n",
    "    ax.text(\n",
    "        rect.get_x() + rect.get_width() / 2, height + 5, label, ha=\"center\", va=\"bottom\"\n",
    "    )\n",
    "\n",
    "# edit x-tick labels\n",
    "ax.set_xticklabels(['0 (Company_Service  )', \"1 (App_Utility)\",\"2 (service_quality )\",\"3 (service_person_attitude)\",\"4 (Cost  )\",\"5 (App_UI )\",\"6 (App_Functionality  )\",\"7 (service_schedule )\",\"8 (Payment )\",\"9 (Customer_Support )\"],rotation=45, ha=\"right\")\n",
    "\n",
    "# y-axis label\n",
    "ax.set_ylabel(\"Counts\")\n",
    "\n",
    "plt.show()"
   ]
  },
  {
   "cell_type": "markdown",
   "metadata": {
    "id": "KlmxPImF2MMs"
   },
   "source": [
    "**Handling catgories **"
   ]
  },
  {
   "cell_type": "code",
   "execution_count": 13,
   "metadata": {
    "colab": {
     "base_uri": "https://localhost:8080/"
    },
    "id": "WTxOaDIN_G-o",
    "outputId": "4aeffdb3-a636-4349-df0a-9805e5f6e544"
   },
   "outputs": [
    {
     "name": "stdout",
     "output_type": "stream",
     "text": [
      "Count of 'App_Utility': 2102\n",
      "Count of 'service_quality': 2435\n",
      "Count of 'service_person_attitude': 2348\n",
      "Count of 'Cost': 2270\n",
      "Count of 'App_UI': 2106\n",
      "Count of 'App_Functionality': 2071\n",
      "Count of 'service_schedule': 2188\n",
      "Count of 'Customer_Support': 2020\n",
      "Count of 'Payment': 2102\n",
      "Total count after upsampling: 22079\n"
     ]
    }
   ],
   "source": [
    "from sklearn.utils import resample\n",
    "import pandas as pd\n",
    "import numpy as np\n",
    "\n",
    "# Assuming raw_data is your DataFrame\n",
    "\n",
    "# List of categories to upsample\n",
    "categories_to_upsample = ['App_Utility', 'service_quality', 'service_person_attitude', 'Cost', 'App_UI', 'App_Functionality', 'service_schedule', 'Customer_Support', 'Payment']\n",
    "\n",
    "# Unique values in the 'polarity' column (assuming it has two values, e.g., 'positive' and 'negative')\n",
    "#polarity_values = ['positive', 'negative']\n",
    "\n",
    "# Empty DataFrame to store the upsampled data\n",
    "upsampled_data = pd.DataFrame()\n",
    "\n",
    "np.random.seed(42)\n",
    "\n",
    "for category in categories_to_upsample:\n",
    "    #for polarity_value in polarity_values:\n",
    "        # Calculate the number of samples needed for each category and polarity\n",
    "        target_count = np.random.randint(2000, 2501)\n",
    "\n",
    "        # Upsample the minority class for each category and polarity\n",
    "        upsampled_category = resample(\n",
    "            raw_data[(raw_data['Aspect Category1'] == category)],\n",
    "            replace=True,\n",
    "            n_samples=target_count,\n",
    "            random_state=42\n",
    "        )\n",
    "\n",
    "        # Concatenate the upsampled category and polarity with the rest of the data\n",
    "        upsampled_data = pd.concat([upsampled_data, upsampled_category])\n",
    "\n",
    "# Combine the upsampled minority classes with the rest of the data\n",
    "dataset = pd.concat([raw_data[~raw_data['Aspect Category1'].isin(categories_to_upsample)], upsampled_data])\n",
    "\n",
    "# Print the count after upsampling for each category and polarity\n",
    "for category in categories_to_upsample:\n",
    "    #for polarity_value in polarity_values:\n",
    "        count = len(upsampled_data[(upsampled_data['Aspect Category1'] == category)])\n",
    "        print(f\"Count of '{category}': {count}\")\n",
    "\n",
    "\n",
    "# Print the total count after upsampling\n",
    "print(f\"Total count after upsampling: {len(dataset)}\")\n",
    "\n"
   ]
  },
  {
   "cell_type": "markdown",
   "metadata": {
    "id": "Tbn4rnW6YMla"
   },
   "source": [
    "**Aspectpolairty1**"
   ]
  },
  {
   "cell_type": "code",
   "execution_count": 14,
   "metadata": {
    "id": "R5HmLO4-ZAFM"
   },
   "outputs": [],
   "source": [
    "class_counts = dataset['AspectPolarity1'].value_counts()"
   ]
  },
  {
   "cell_type": "code",
   "execution_count": 15,
   "metadata": {
    "colab": {
     "base_uri": "https://localhost:8080/"
    },
    "id": "1mxJ_nPEZEwl",
    "outputId": "4676385c-34af-4d78-fb6a-ffac1d59ffd4"
   },
   "outputs": [
    {
     "data": {
      "text/plain": [
       "AspectPolarity1\n",
       "positive    13815\n",
       "negative     8264\n",
       "Name: count, dtype: int64"
      ]
     },
     "execution_count": 15,
     "metadata": {},
     "output_type": "execute_result"
    }
   ],
   "source": [
    "class_counts"
   ]
  },
  {
   "cell_type": "code",
   "execution_count": 16,
   "metadata": {
    "id": "9B4CZGH__y3l"
   },
   "outputs": [],
   "source": [
    "dataset.to_excel(\"separate_Upsampled_Dataset.xlsx\",\n",
    "                 header=True,\n",
    "                 index=False)"
   ]
  },
  {
   "cell_type": "code",
   "execution_count": 17,
   "metadata": {},
   "outputs": [],
   "source": [
    "# load the dataset\n",
    "unsample_data = pd.read_excel('separate_Upsampled_Dataset.xlsx')"
   ]
  },
  {
   "cell_type": "code",
   "execution_count": 18,
   "metadata": {},
   "outputs": [
    {
     "data": {
      "text/html": [
       "<div>\n",
       "<style scoped>\n",
       "    .dataframe tbody tr th:only-of-type {\n",
       "        vertical-align: middle;\n",
       "    }\n",
       "\n",
       "    .dataframe tbody tr th {\n",
       "        vertical-align: top;\n",
       "    }\n",
       "\n",
       "    .dataframe thead th {\n",
       "        text-align: right;\n",
       "    }\n",
       "</style>\n",
       "<table border=\"1\" class=\"dataframe\">\n",
       "  <thead>\n",
       "    <tr style=\"text-align: right;\">\n",
       "      <th></th>\n",
       "      <th>Sentences</th>\n",
       "      <th>Broken Sentences</th>\n",
       "      <th>OpinionTerm1</th>\n",
       "      <th>Predicted Opinion Term 1</th>\n",
       "      <th>Aspect Category1</th>\n",
       "      <th>AspectPolarity1</th>\n",
       "      <th>OpinionTerm2</th>\n",
       "      <th>Predicted Opinion Term 2</th>\n",
       "      <th>Aspect Category2</th>\n",
       "      <th>Aspectpolarity2</th>\n",
       "    </tr>\n",
       "  </thead>\n",
       "  <tbody>\n",
       "    <tr>\n",
       "      <th>0</th>\n",
       "      <td>excellent service....very professional electri...</td>\n",
       "      <td>['excellent service', '.very professional elec...</td>\n",
       "      <td>excellent service</td>\n",
       "      <td>excellent service</td>\n",
       "      <td>Company_Service</td>\n",
       "      <td>positive</td>\n",
       "      <td>professional electricians</td>\n",
       "      <td>professional electrician</td>\n",
       "      <td>service_person_attitude</td>\n",
       "      <td>positive</td>\n",
       "    </tr>\n",
       "    <tr>\n",
       "      <th>1</th>\n",
       "      <td>nice facilities and rates is to much high</td>\n",
       "      <td>['nice facilities ', ' rates is to much high']</td>\n",
       "      <td>nice facilities</td>\n",
       "      <td>nice facilities</td>\n",
       "      <td>Company_Service</td>\n",
       "      <td>positive</td>\n",
       "      <td>much high</td>\n",
       "      <td>to much</td>\n",
       "      <td>cost</td>\n",
       "      <td>negative</td>\n",
       "    </tr>\n",
       "    <tr>\n",
       "      <th>2</th>\n",
       "      <td>Very Very Helpful and Useful . Excellent Exper...</td>\n",
       "      <td>['Very Very Helpful and Useful ', ' Excellent ...</td>\n",
       "      <td>helpful</td>\n",
       "      <td>very helpful</td>\n",
       "      <td>NaN</td>\n",
       "      <td>positive</td>\n",
       "      <td>excellent experience</td>\n",
       "      <td>excellent experience</td>\n",
       "      <td>Company_Service</td>\n",
       "      <td>positive</td>\n",
       "    </tr>\n",
       "    <tr>\n",
       "      <th>3</th>\n",
       "      <td>great helping hand. economical.</td>\n",
       "      <td>['great helping hand', ' economical']</td>\n",
       "      <td>helping hand</td>\n",
       "      <td>helping hand</td>\n",
       "      <td>Company_Service</td>\n",
       "      <td>positive</td>\n",
       "      <td>economical</td>\n",
       "      <td>NaN</td>\n",
       "      <td>cost</td>\n",
       "      <td>positive</td>\n",
       "    </tr>\n",
       "    <tr>\n",
       "      <th>4</th>\n",
       "      <td>Very helpful, very fast service</td>\n",
       "      <td>['Very helpful', ' very fast service']</td>\n",
       "      <td>helpful</td>\n",
       "      <td>very helpful</td>\n",
       "      <td>NaN</td>\n",
       "      <td>positive</td>\n",
       "      <td>fast service</td>\n",
       "      <td>fast service</td>\n",
       "      <td>Company_Service</td>\n",
       "      <td>positive</td>\n",
       "    </tr>\n",
       "  </tbody>\n",
       "</table>\n",
       "</div>"
      ],
      "text/plain": [
       "                                           Sentences  \\\n",
       "0  excellent service....very professional electri...   \n",
       "1          nice facilities and rates is to much high   \n",
       "2  Very Very Helpful and Useful . Excellent Exper...   \n",
       "3                    great helping hand. economical.   \n",
       "4                    Very helpful, very fast service   \n",
       "\n",
       "                                    Broken Sentences       OpinionTerm1  \\\n",
       "0  ['excellent service', '.very professional elec...  excellent service   \n",
       "1     ['nice facilities ', ' rates is to much high']    nice facilities   \n",
       "2  ['Very Very Helpful and Useful ', ' Excellent ...            helpful   \n",
       "3              ['great helping hand', ' economical']       helping hand   \n",
       "4             ['Very helpful', ' very fast service']            helpful   \n",
       "\n",
       "  Predicted Opinion Term 1 Aspect Category1 AspectPolarity1  \\\n",
       "0        excellent service  Company_Service        positive   \n",
       "1          nice facilities  Company_Service        positive   \n",
       "2             very helpful              NaN        positive   \n",
       "3             helping hand  Company_Service        positive   \n",
       "4             very helpful              NaN        positive   \n",
       "\n",
       "                OpinionTerm2  Predicted Opinion Term 2  \\\n",
       "0  professional electricians  professional electrician   \n",
       "1                  much high                   to much   \n",
       "2       excellent experience      excellent experience   \n",
       "3                 economical                       NaN   \n",
       "4               fast service              fast service   \n",
       "\n",
       "          Aspect Category2 Aspectpolarity2  \n",
       "0  service_person_attitude       positive   \n",
       "1                     cost       negative   \n",
       "2          Company_Service        positive  \n",
       "3                     cost        positive  \n",
       "4          Company_Service        positive  "
      ]
     },
     "execution_count": 18,
     "metadata": {},
     "output_type": "execute_result"
    }
   ],
   "source": [
    "## print the top5 records\n",
    "unsample_data.head()"
   ]
  },
  {
   "cell_type": "code",
   "execution_count": 19,
   "metadata": {},
   "outputs": [
    {
     "name": "stdout",
     "output_type": "stream",
     "text": [
      "(22079, 10)\n"
     ]
    }
   ],
   "source": [
    "## print shape of dataset with  rows and columns\n",
    "print(unsample_data.shape)"
   ]
  },
  {
   "cell_type": "code",
   "execution_count": 20,
   "metadata": {},
   "outputs": [
    {
     "name": "stdout",
     "output_type": "stream",
     "text": [
      "Predicted Opinion Term 1 0.09  % missing values\n",
      "Aspect Category1 0.0  % missing values\n",
      "OpinionTerm2 0.72  % missing values\n",
      "Predicted Opinion Term 2 0.62  % missing values\n",
      "Aspect Category2 0.72  % missing values\n",
      "Aspectpolarity2 0.72  % missing values\n"
     ]
    }
   ],
   "source": [
    "## Here we will check the percentage of nan values present in each feature\n",
    "## 1 -step make the list of features which has missing values\n",
    "features_with_na=[features for features in unsample_data.columns if unsample_data[features].isnull().sum()>1]\n",
    "## 2- step print the feature name and the percentage of missing values\n",
    "\n",
    "for feature in features_with_na:\n",
    "    print(feature, np.round(unsample_data[feature].isnull().mean(), 2),  ' % missing values')"
   ]
  },
  {
   "cell_type": "code",
   "execution_count": 21,
   "metadata": {},
   "outputs": [],
   "source": [
    "# Specify the columns to save\n",
    "columns_to_save = ['Sentences', 'OpinionTerm1', 'Aspect Category1', 'AspectPolarity1']\n",
    "\n",
    "# Create a new DataFrame 'df' with specific columns from 'unsample_data'\n",
    "df = unsample_data[columns_to_save].copy()"
   ]
  },
  {
   "cell_type": "code",
   "execution_count": 22,
   "metadata": {},
   "outputs": [
    {
     "data": {
      "text/html": [
       "<div>\n",
       "<style scoped>\n",
       "    .dataframe tbody tr th:only-of-type {\n",
       "        vertical-align: middle;\n",
       "    }\n",
       "\n",
       "    .dataframe tbody tr th {\n",
       "        vertical-align: top;\n",
       "    }\n",
       "\n",
       "    .dataframe thead th {\n",
       "        text-align: right;\n",
       "    }\n",
       "</style>\n",
       "<table border=\"1\" class=\"dataframe\">\n",
       "  <thead>\n",
       "    <tr style=\"text-align: right;\">\n",
       "      <th></th>\n",
       "      <th>Sentences</th>\n",
       "      <th>OpinionTerm1</th>\n",
       "      <th>Aspect Category1</th>\n",
       "      <th>AspectPolarity1</th>\n",
       "    </tr>\n",
       "  </thead>\n",
       "  <tbody>\n",
       "    <tr>\n",
       "      <th>0</th>\n",
       "      <td>excellent service....very professional electri...</td>\n",
       "      <td>excellent service</td>\n",
       "      <td>Company_Service</td>\n",
       "      <td>positive</td>\n",
       "    </tr>\n",
       "    <tr>\n",
       "      <th>1</th>\n",
       "      <td>nice facilities and rates is to much high</td>\n",
       "      <td>nice facilities</td>\n",
       "      <td>Company_Service</td>\n",
       "      <td>positive</td>\n",
       "    </tr>\n",
       "    <tr>\n",
       "      <th>2</th>\n",
       "      <td>Very Very Helpful and Useful . Excellent Exper...</td>\n",
       "      <td>helpful</td>\n",
       "      <td>NaN</td>\n",
       "      <td>positive</td>\n",
       "    </tr>\n",
       "    <tr>\n",
       "      <th>3</th>\n",
       "      <td>great helping hand. economical.</td>\n",
       "      <td>helping hand</td>\n",
       "      <td>Company_Service</td>\n",
       "      <td>positive</td>\n",
       "    </tr>\n",
       "    <tr>\n",
       "      <th>4</th>\n",
       "      <td>Very helpful, very fast service</td>\n",
       "      <td>helpful</td>\n",
       "      <td>NaN</td>\n",
       "      <td>positive</td>\n",
       "    </tr>\n",
       "  </tbody>\n",
       "</table>\n",
       "</div>"
      ],
      "text/plain": [
       "                                           Sentences       OpinionTerm1  \\\n",
       "0  excellent service....very professional electri...  excellent service   \n",
       "1          nice facilities and rates is to much high    nice facilities   \n",
       "2  Very Very Helpful and Useful . Excellent Exper...            helpful   \n",
       "3                    great helping hand. economical.       helping hand   \n",
       "4                    Very helpful, very fast service            helpful   \n",
       "\n",
       "  Aspect Category1 AspectPolarity1  \n",
       "0  Company_Service        positive  \n",
       "1  Company_Service        positive  \n",
       "2              NaN        positive  \n",
       "3  Company_Service        positive  \n",
       "4              NaN        positive  "
      ]
     },
     "execution_count": 22,
     "metadata": {},
     "output_type": "execute_result"
    }
   ],
   "source": [
    "df.head()"
   ]
  },
  {
   "cell_type": "code",
   "execution_count": 23,
   "metadata": {},
   "outputs": [
    {
     "name": "stdout",
     "output_type": "stream",
     "text": [
      "22079\n",
      "22079\n"
     ]
    }
   ],
   "source": [
    "# Check the number of samples in sentences and labels\n",
    "print(len(df['Sentences']))\n",
    "print(len(df[['OpinionTerm1', 'Aspect Category1', 'AspectPolarity1']].values))\n"
   ]
  },
  {
   "cell_type": "markdown",
   "metadata": {},
   "source": [
    "# final model "
   ]
  },
  {
   "cell_type": "code",
   "execution_count": null,
   "metadata": {},
   "outputs": [
    {
     "name": "stderr",
     "output_type": "stream",
     "text": [
      "Some weights of BertForTokenClassification were not initialized from the model checkpoint at bert-base-uncased and are newly initialized: ['classifier.weight', 'classifier.bias']\n",
      "You should probably TRAIN this model on a down-stream task to be able to use it for predictions and inference.\n"
     ]
    }
   ],
   "source": [
    "import torch\n",
    "from transformers import BertTokenizer, BertForTokenClassification\n",
    "from sklearn.model_selection import train_test_split\n",
    "from sklearn.metrics import classification_report\n",
    "import pandas as pd\n",
    "import numpy as np\n",
    "\n",
    "# Replace NaN values with an empty string or handle them based on your requirements\n",
    "df = df.fillna(\"\")\n",
    "\n",
    "# Load BERT tokenizer and model\n",
    "tokenizer = BertTokenizer.from_pretrained(\"bert-base-uncased\")\n",
    "model = BertForTokenClassification.from_pretrained(\"bert-base-uncased\", num_labels=3)\n",
    "\n",
    "# Define a function to tokenize and prepare the input data\n",
    "def prepare_data(sentences, labels, max_len=128):\n",
    "    # Ensure 'sentences' is a list of strings\n",
    "    sentences = list(sentences.astype(str))\n",
    "    \n",
    "    # Tokenize inputs\n",
    "    tokenized_inputs = tokenizer(sentences, padding=True, truncation=True, max_length=max_len, return_tensors=\"pt\")\n",
    "    \n",
    "    # Convert labels to tensor\n",
    "    labels_list = []\n",
    "\n",
    "    for row in labels:\n",
    "        # Handle NaN values for each element in the row\n",
    "        processed_labels = [\n",
    "            tokenizer.encode(str(label), add_special_tokens=False) if pd.notna(label) else [0]\n",
    "            for label in row\n",
    "        ]\n",
    "\n",
    "        # Flatten the list\n",
    "        flattened_labels = [item for sublist in processed_labels for item in sublist]\n",
    "\n",
    "        # Pad or truncate the label sequence\n",
    "        padding_length = max_len - len(flattened_labels)\n",
    "        if padding_length > 0:\n",
    "            padding = np.zeros(padding_length, dtype=int)\n",
    "            flattened_labels += list(padding)\n",
    "        else:\n",
    "            flattened_labels = flattened_labels[:max_len]\n",
    "\n",
    "        labels_list.append(flattened_labels)\n",
    "    \n",
    "    labels_tensor = torch.tensor(labels_list)\n",
    "\n",
    "    return tokenized_inputs, labels_tensor\n",
    "\n",
    "# Split the data into training and testing sets with consistent random_state\n",
    "train_df, test_df = train_test_split(df, test_size=0.2, random_state=42)\n",
    "\n",
    "# Prepare training data\n",
    "train_inputs, train_labels = prepare_data(train_df['Sentences'], train_df[['OpinionTerm1', 'Aspect Category1', 'AspectPolarity1']].values, max_len)\n",
    "\n",
    "# Prepare testing data\n",
    "test_inputs, test_labels = prepare_data(test_df['Sentences'], test_df[['OpinionTerm1', 'Aspect Category1', 'AspectPolarity1']].values, max_len)\n",
    "\n",
    "# Train the model\n",
    "optimizer = torch.optim.AdamW(model.parameters(), lr=1e-5)\n",
    "epochs = 1\n",
    "\n",
    "for epoch in range(epochs):\n",
    "    outputs = model(**train_inputs, labels=train_labels)\n",
    "    loss = outputs.loss\n",
    "    loss.backward()\n",
    "    optimizer.step()\n",
    "    optimizer.zero_grad()\n",
    "\n",
    "# Evaluate the model on the test set\n",
    "with torch.no_grad():\n",
    "    model.eval()\n",
    "    test_outputs = model(**test_inputs, labels=test_labels)\n",
    "    predicted_labels = torch.argmax(test_outputs.logits, dim=2).numpy()\n",
    "\n",
    "# Flatten the predictions and true labels\n",
    "flat_predicted_labels = predicted_labels.flatten()\n",
    "flat_true_labels = test_labels.flatten().numpy()\n",
    "\n",
    "# Print classification report\n",
    "print(classification_report(flat_true_labels, flat_predicted_labels))\n",
    "\n",
    "# Now, you can use the trained model to make predictions on new sentences\n",
    "def predict(sentence):\n",
    "    # Prepare the input data for prediction\n",
    "    tokenized_sentence = tokenizer(sentence, padding=True, truncation=True, max_length=max_len, return_tensors=\"pt\")\n",
    "    \n",
    "    # Make predictions\n",
    "    with torch.no_grad():\n",
    "        model.eval()\n",
    "        outputs = model(**tokenized_sentence)\n",
    "        predicted_labels = torch.argmax(outputs.logits, dim=2).numpy()\n",
    "    \n",
    "    # Map the predicted labels back to the original classes\n",
    "    predicted_opinion_term = tokenizer.decode(predicted_labels[0][:max_len])\n",
    "    predicted_aspect_category = tokenizer.decode(predicted_labels[1][:max_len])\n",
    "    predicted_aspect_polarity = tokenizer.decode(predicted_labels[2][:max_len])\n",
    "    \n",
    "    return predicted_opinion_term, predicted_aspect_category, predicted_aspect_polarity\n",
    "\n",
    "# Example usage\n",
    "sentence_to_predict = \"The food quality was amazing.\"\n",
    "predicted_opinion_term, predicted_aspect_category, predicted_aspect_polarity = predict(sentence_to_predict)\n",
    "\n",
    "print(\"Predicted Opinion Term:\", predicted_opinion_term)\n",
    "print(\"Predicted Aspect Category:\", predicted_aspect_category)\n",
    "print(\"Predicted Aspect Polarity:\", predicted_aspect_polarity)\n"
   ]
  },
  {
   "cell_type": "markdown",
   "metadata": {},
   "source": [
    "# Model"
   ]
  },
  {
   "cell_type": "code",
   "execution_count": 37,
   "metadata": {},
   "outputs": [],
   "source": [
    "\n",
    "from sklearn.model_selection import train_test_split\n",
    "\n",
    "# Split the dataset into training and testing sets\n",
    "train_df, test_df = train_test_split(unsample_data, test_size=0.2, random_state=42)"
   ]
  },
  {
   "cell_type": "code",
   "execution_count": null,
   "metadata": {},
   "outputs": [],
   "source": [
    "import pandas as pd\n",
    "from sklearn.model_selection import train_test_split\n",
    "from sklearn.preprocessing import LabelEncoder\n",
    "from sklearn.metrics import accuracy_score\n",
    "from transformers import BertTokenizer, BertForSequenceClassification\n",
    "from torch.utils.data import DataLoader, Dataset\n",
    "import torch\n",
    "from tqdm import tqdm\n",
    "\n",
    "# Load your dataset\n",
    "# Assuming your dataset is in a CSV file\n",
    "df = unsample_data\n",
    "\n",
    "# Split the dataset\n",
    "train_data, val_data = train_test_split(df, test_size=0.2, random_state=42)\n",
    "\n",
    "# Use LabelEncoder on the entire set of unique labels\n",
    "label_encoder = LabelEncoder()\n",
    "label_encoder.fit(df['OpinionTerm1'])\n",
    "\n",
    "# Transform labels for both training and validation sets\n",
    "train_data['label'] = label_encoder.transform(train_data['OpinionTerm1'])\n",
    "val_data['label'] = label_encoder.transform(val_data['OpinionTerm1'])\n",
    "\n",
    "# BERT Tokenizer\n",
    "tokenizer = BertTokenizer.from_pretrained('bert-base-uncased')\n",
    "\n",
    "# Define a custom dataset class\n",
    "class CustomDataset(Dataset):\n",
    "    def __init__(self, sentences, labels):\n",
    "        self.sentences = sentences\n",
    "        self.labels = labels\n",
    "\n",
    "    def __len__(self):\n",
    "        return len(self.sentences)\n",
    "\n",
    "    def __getitem__(self, idx):\n",
    "        return {'text': self.sentences[idx], 'label': self.labels[idx]}\n",
    "\n",
    "# Tokenize the data\n",
    "train_dataset = CustomDataset(\n",
    "    sentences=train_data['Sentences'].tolist(),\n",
    "    labels=train_data['label'].tolist()\n",
    ")\n",
    "val_dataset = CustomDataset(\n",
    "    sentences=val_data['Sentences'].tolist(),\n",
    "    labels=val_data['label'].tolist()\n",
    ")\n",
    "\n",
    "\n",
    "# Create data loaders\n",
    "train_loader = DataLoader(train_dataset, batch_size=8, shuffle=True)\n",
    "val_loader = DataLoader(val_dataset, batch_size=8, shuffle=False)\n",
    "\n",
    "# BERT model for sequence classification\n",
    "model = BertForSequenceClassification.from_pretrained('bert-base-uncased', num_labels=len(df['OpinionTerm1'].unique()))\n",
    "\n",
    "# Training the model\n",
    "device = torch.device('cuda' if torch.cuda.is_available() else 'cpu')\n",
    "model.to(device)\n",
    "optimizer = torch.optim.AdamW(model.parameters(), lr=2e-5)\n",
    "\n",
    "num_epochs = 1\n",
    "for epoch in range(num_epochs):\n",
    "    model.train()\n",
    "    for batch in tqdm(train_loader, desc=f'Epoch {epoch + 1}/{num_epochs}'):\n",
    "        inputs = tokenizer(batch['text'], padding=True, truncation=True, return_tensors='pt')\n",
    "        labels = torch.tensor(batch['label']).to(device)\n",
    "        inputs = {key: val.to(device) for key, val in inputs.items()}\n",
    "        outputs = model(**inputs, labels=labels)\n",
    "        loss = outputs.loss\n",
    "        optimizer.zero_grad()\n",
    "        loss.backward()\n",
    "        optimizer.step()\n"
   ]
  },
  {
   "cell_type": "code",
   "execution_count": 43,
   "metadata": {},
   "outputs": [
    {
     "name": "stderr",
     "output_type": "stream",
     "text": [
      "Evaluating:   0%|                                                                              | 0/552 [00:00<?, ?it/s]C:\\Users\\HP\\AppData\\Local\\Temp\\ipykernel_13592\\3971342625.py:8: UserWarning: To copy construct from a tensor, it is recommended to use sourceTensor.clone().detach() or sourceTensor.clone().detach().requires_grad_(True), rather than torch.tensor(sourceTensor).\n",
      "  labels = torch.tensor(batch['label']).to(device)\n",
      "Evaluating: 100%|████████████████████████████████████████████████████████████████████| 552/552 [03:38<00:00,  2.53it/s]"
     ]
    },
    {
     "name": "stdout",
     "output_type": "stream",
     "text": [
      "Accuracy: 85.28%\n"
     ]
    },
    {
     "name": "stderr",
     "output_type": "stream",
     "text": [
      "\n"
     ]
    }
   ],
   "source": [
    "# Evaluation\n",
    "model.eval()\n",
    "predictions = []\n",
    "true_labels = []\n",
    "with torch.no_grad():\n",
    "    for batch in tqdm(val_loader, desc='Evaluating'):\n",
    "        inputs = tokenizer(batch['text'], padding=True, truncation=True, return_tensors='pt')\n",
    "        labels = torch.tensor(batch['label']).to(device)\n",
    "        inputs = {key: val.to(device) for key, val in inputs.items()}\n",
    "        outputs = model(**inputs, labels=labels)\n",
    "        logits = outputs.logits\n",
    "        preds = torch.argmax(logits, dim=1)\n",
    "        predictions.extend(preds.cpu().numpy())\n",
    "        true_labels.extend(labels.cpu().numpy())\n",
    "\n",
    "# Calculate accuracy\n",
    "accuracy = accuracy_score(true_labels, predictions)\n",
    "print(f'Accuracy: {accuracy * 100:.2f}%')"
   ]
  },
  {
   "cell_type": "code",
   "execution_count": null,
   "metadata": {},
   "outputs": [],
   "source": []
  }
 ],
 "metadata": {
  "colab": {
   "provenance": []
  },
  "kernelspec": {
   "display_name": "Python 3 (ipykernel)",
   "language": "python",
   "name": "python3"
  },
  "language_info": {
   "codemirror_mode": {
    "name": "ipython",
    "version": 3
   },
   "file_extension": ".py",
   "mimetype": "text/x-python",
   "name": "python",
   "nbconvert_exporter": "python",
   "pygments_lexer": "ipython3",
   "version": "3.9.13"
  }
 },
 "nbformat": 4,
 "nbformat_minor": 1
}
