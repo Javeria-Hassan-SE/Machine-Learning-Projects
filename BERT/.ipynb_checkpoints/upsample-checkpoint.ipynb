{
 "cells": [
  {
   "cell_type": "code",
   "execution_count": 1,
   "metadata": {
    "colab": {
     "base_uri": "https://localhost:8080/"
    },
    "id": "uVA12CHOKQo3",
    "outputId": "9178ad4b-d073-4437-a5a9-1784c2c749c4"
   },
   "outputs": [
    {
     "name": "stdout",
     "output_type": "stream",
     "text": [
      "Collecting opendatasets\n",
      "  Downloading opendatasets-0.1.22-py3-none-any.whl (15 kB)\n",
      "Requirement already satisfied: tqdm in /usr/local/lib/python3.10/dist-packages (from opendatasets) (4.66.1)\n",
      "Requirement already satisfied: kaggle in /usr/local/lib/python3.10/dist-packages (from opendatasets) (1.5.16)\n",
      "Requirement already satisfied: click in /usr/local/lib/python3.10/dist-packages (from opendatasets) (8.1.7)\n",
      "Requirement already satisfied: six>=1.10 in /usr/local/lib/python3.10/dist-packages (from kaggle->opendatasets) (1.16.0)\n",
      "Requirement already satisfied: certifi in /usr/local/lib/python3.10/dist-packages (from kaggle->opendatasets) (2023.7.22)\n",
      "Requirement already satisfied: python-dateutil in /usr/local/lib/python3.10/dist-packages (from kaggle->opendatasets) (2.8.2)\n",
      "Requirement already satisfied: requests in /usr/local/lib/python3.10/dist-packages (from kaggle->opendatasets) (2.31.0)\n",
      "Requirement already satisfied: python-slugify in /usr/local/lib/python3.10/dist-packages (from kaggle->opendatasets) (8.0.1)\n",
      "Requirement already satisfied: urllib3 in /usr/local/lib/python3.10/dist-packages (from kaggle->opendatasets) (2.0.7)\n",
      "Requirement already satisfied: bleach in /usr/local/lib/python3.10/dist-packages (from kaggle->opendatasets) (6.1.0)\n",
      "Requirement already satisfied: webencodings in /usr/local/lib/python3.10/dist-packages (from bleach->kaggle->opendatasets) (0.5.1)\n",
      "Requirement already satisfied: text-unidecode>=1.3 in /usr/local/lib/python3.10/dist-packages (from python-slugify->kaggle->opendatasets) (1.3)\n",
      "Requirement already satisfied: charset-normalizer<4,>=2 in /usr/local/lib/python3.10/dist-packages (from requests->kaggle->opendatasets) (3.3.2)\n",
      "Requirement already satisfied: idna<4,>=2.5 in /usr/local/lib/python3.10/dist-packages (from requests->kaggle->opendatasets) (3.4)\n",
      "Installing collected packages: opendatasets\n",
      "Successfully installed opendatasets-0.1.22\n",
      "Collecting contractions\n",
      "  Downloading contractions-0.1.73-py2.py3-none-any.whl (8.7 kB)\n",
      "Collecting textsearch>=0.0.21 (from contractions)\n",
      "  Downloading textsearch-0.0.24-py2.py3-none-any.whl (7.6 kB)\n",
      "Collecting anyascii (from textsearch>=0.0.21->contractions)\n",
      "  Downloading anyascii-0.3.2-py3-none-any.whl (289 kB)\n",
      "\u001b[2K     \u001b[90m━━━━━━━━━━━━━━━━━━━━━━━━━━━━━━━━━━━━━━━━\u001b[0m \u001b[32m289.9/289.9 kB\u001b[0m \u001b[31m6.0 MB/s\u001b[0m eta \u001b[36m0:00:00\u001b[0m\n",
      "\u001b[?25hCollecting pyahocorasick (from textsearch>=0.0.21->contractions)\n",
      "  Downloading pyahocorasick-2.0.0-cp310-cp310-manylinux_2_5_x86_64.manylinux1_x86_64.manylinux_2_12_x86_64.manylinux2010_x86_64.whl (110 kB)\n",
      "\u001b[2K     \u001b[90m━━━━━━━━━━━━━━━━━━━━━━━━━━━━━━━━━━━━━━━━\u001b[0m \u001b[32m110.8/110.8 kB\u001b[0m \u001b[31m14.5 MB/s\u001b[0m eta \u001b[36m0:00:00\u001b[0m\n",
      "\u001b[?25hInstalling collected packages: pyahocorasick, anyascii, textsearch, contractions\n",
      "Successfully installed anyascii-0.3.2 contractions-0.1.73 pyahocorasick-2.0.0 textsearch-0.0.24\n",
      "Collecting autocorrect\n",
      "  Downloading autocorrect-2.6.1.tar.gz (622 kB)\n",
      "\u001b[2K     \u001b[90m━━━━━━━━━━━━━━━━━━━━━━━━━━━━━━━━━━━━━━━━\u001b[0m \u001b[32m622.8/622.8 kB\u001b[0m \u001b[31m8.5 MB/s\u001b[0m eta \u001b[36m0:00:00\u001b[0m\n",
      "\u001b[?25h  Preparing metadata (setup.py) ... \u001b[?25l\u001b[?25hdone\n",
      "Building wheels for collected packages: autocorrect\n",
      "  Building wheel for autocorrect (setup.py) ... \u001b[?25l\u001b[?25hdone\n",
      "  Created wheel for autocorrect: filename=autocorrect-2.6.1-py3-none-any.whl size=622364 sha256=d4b2fd229a17a07cf89520cd4e7e52790b88b7501860569ec96fa82000cb3f5e\n",
      "  Stored in directory: /root/.cache/pip/wheels/b5/7b/6d/b76b29ce11ff8e2521c8c7dd0e5bfee4fb1789d76193124343\n",
      "Successfully built autocorrect\n",
      "Installing collected packages: autocorrect\n",
      "Successfully installed autocorrect-2.6.1\n",
      "Requirement already satisfied: openpyxl in /usr/local/lib/python3.10/dist-packages (3.1.2)\n",
      "Requirement already satisfied: et-xmlfile in /usr/local/lib/python3.10/dist-packages (from openpyxl) (1.1.0)\n"
     ]
    }
   ],
   "source": [
    "!pip install opendatasets\n",
    "!pip install contractions\n",
    "!pip install autocorrect\n",
    "!pip install openpyxl -U"
   ]
  },
  {
   "cell_type": "code",
   "execution_count": 2,
   "metadata": {
    "id": "KOuzuv5ePDqh"
   },
   "outputs": [],
   "source": [
    "\n",
    "# library imports\n",
    "import pandas as pd\n",
    "import opendatasets\n",
    "import contractions\n",
    "from autocorrect import Speller\n",
    "import matplotlib.pyplot as plt\n",
    "import seaborn as sns\n",
    "from tqdm.notebook import tqdm_notebook\n",
    "import nltk\n",
    "import re"
   ]
  },
  {
   "cell_type": "code",
   "execution_count": 3,
   "metadata": {
    "id": "dmw_gLiIPGTW"
   },
   "outputs": [],
   "source": [
    "tqdm_notebook.pandas()\n"
   ]
  },
  {
   "cell_type": "code",
   "execution_count": 4,
   "metadata": {
    "id": "xhra6-gnPNXI"
   },
   "outputs": [],
   "source": [
    "\n",
    "# load the dataset\n",
    "raw_data = pd.read_excel('/content/classifier new (2).xlsx')"
   ]
  },
  {
   "cell_type": "code",
   "execution_count": 5,
   "metadata": {
    "colab": {
     "base_uri": "https://localhost:8080/"
    },
    "id": "8rNiyrC1PVHQ",
    "outputId": "b5fc3500-5cf2-40a9-9459-cb9e545594c6"
   },
   "outputs": [
    {
     "data": {
      "text/plain": [
       "Index(['Sentences', 'OpinionTerm1', 'Aspect Category1', 'AspectPolarity1 ',\n",
       "       'OpinionTerm2', 'Aspect Category2', 'Aspectpolarity2'],\n",
       "      dtype='object')"
      ]
     },
     "execution_count": 5,
     "metadata": {},
     "output_type": "execute_result"
    }
   ],
   "source": [
    "raw_data .columns"
   ]
  },
  {
   "cell_type": "code",
   "execution_count": 6,
   "metadata": {
    "id": "EKQ6Q8dk3AVq"
   },
   "outputs": [],
   "source": [
    "mapping = {\n",
    "    'Company_Service': 'Company_Service',\n",
    "    'App_Utility': 'App_Utility',\n",
    "    'service_quality': 'service_quality',\n",
    "    'service_person_attitude': 'service_person_attitude',\n",
    "    'Cost': 'Cost',\n",
    "    'App_UI': 'App_UI',\n",
    "    'App_Functionality': 'App_Functionality',\n",
    "    'service_schedule': 'service_schedule',\n",
    "    'Customer_Support': 'Customer_Support',\n",
    "    'cost': 'Cost',\n",
    "    'Company_service': 'Company_Service',\n",
    "    'Payment': 'Payment',\n",
    "    'payment': 'Payment',\n",
    "    'Customer_Suppor': 'Customer_Support'\n",
    "}\n",
    "\n",
    "# Replace variations with the standard name\n",
    "raw_data['Aspect Category1'] = raw_data['Aspect Category1'].map(mapping)"
   ]
  },
  {
   "cell_type": "code",
   "execution_count": 8,
   "metadata": {
    "id": "aJRAI0gP5D8P"
   },
   "outputs": [],
   "source": [
    "raw_data.columns = raw_data.columns.str.strip()"
   ]
  },
  {
   "cell_type": "code",
   "execution_count": null,
   "metadata": {
    "colab": {
     "base_uri": "https://localhost:8080/"
    },
    "id": "lzYDynrI3-3p",
    "outputId": "b4b4f7d5-dbba-4d51-fa02-23669c40cd55"
   },
   "outputs": [
    {
     "name": "stdout",
     "output_type": "stream",
     "text": [
      "['positive' 'negative ' 'Positive' 'positive ']\n"
     ]
    }
   ],
   "source": [
    "print(raw_data['AspectPolarity1'].unique())\n"
   ]
  },
  {
   "cell_type": "code",
   "execution_count": 9,
   "metadata": {
    "colab": {
     "base_uri": "https://localhost:8080/"
    },
    "id": "Z4YOIXgKSrRB",
    "outputId": "7f3963aa-81e0-4b23-bd1c-8bb5ba526812"
   },
   "outputs": [
    {
     "name": "stdout",
     "output_type": "stream",
     "text": [
      "['positive' 'negative']\n"
     ]
    }
   ],
   "source": [
    "# Assuming raw_data is your DataFrame\n",
    "\n",
    "# Mapping with variations\n",
    "mapping = {\n",
    "    'positive': 'positive',\n",
    "    'Positive': 'positive',\n",
    "    'positive ': 'positive',\n",
    "    'positive  ': 'positive',  # Add more variations as needed\n",
    "    'negative': 'negative',\n",
    "    'Negative': 'negative',\n",
    "    'negative ': 'negative',\n",
    "    'negative  ': 'negative'  # Add more variations as needed\n",
    "}\n",
    "\n",
    "# Apply the mapping after converting to lowercase for case-insensitivity\n",
    "raw_data['AspectPolarity1'] = raw_data['AspectPolarity1'].str.lower().map(mapping)\n",
    "\n",
    "# Check unique values\n",
    "unique_values = raw_data['AspectPolarity1'].unique()\n",
    "print(unique_values)\n",
    "\n"
   ]
  },
  {
   "cell_type": "code",
   "execution_count": 10,
   "metadata": {
    "colab": {
     "base_uri": "https://localhost:8080/"
    },
    "id": "Av3I0UJw20l9",
    "outputId": "d92c8c46-442b-454d-9d12-5f466f66f250"
   },
   "outputs": [
    {
     "data": {
      "text/plain": [
       "array(['positive', 'negative'], dtype=object)"
      ]
     },
     "execution_count": 10,
     "metadata": {},
     "output_type": "execute_result"
    }
   ],
   "source": [
    "raw_data['AspectPolarity1'].unique()"
   ]
  },
  {
   "cell_type": "code",
   "execution_count": 11,
   "metadata": {
    "id": "q3pRz1nuPdln"
   },
   "outputs": [],
   "source": [
    "\n",
    "# define observation counts within each class\n",
    "class_counts = raw_data['Aspect Category1'].value_counts()"
   ]
  },
  {
   "cell_type": "code",
   "execution_count": 12,
   "metadata": {
    "colab": {
     "base_uri": "https://localhost:8080/"
    },
    "id": "dGjOmiFjPrJE",
    "outputId": "f6a52a5b-3271-4a7e-9a74-8271f405c47c"
   },
   "outputs": [
    {
     "data": {
      "text/plain": [
       "Company_Service            2366\n",
       "App_Utility                 578\n",
       "service_quality             574\n",
       "service_person_attitude     189\n",
       "Cost                        136\n",
       "App_UI                       74\n",
       "App_Functionality            66\n",
       "service_schedule             51\n",
       "Customer_Support             50\n",
       "Payment                       9\n",
       "Name: Aspect Category1, dtype: int64"
      ]
     },
     "execution_count": 12,
     "metadata": {},
     "output_type": "execute_result"
    }
   ],
   "source": [
    "class_counts"
   ]
  },
  {
   "cell_type": "code",
   "execution_count": null,
   "metadata": {
    "colab": {
     "base_uri": "https://localhost:8080/",
     "height": 618
    },
    "id": "E6ZH-K5aPyT5",
    "outputId": "b44df5d3-c2ce-4e3b-fb4c-91f87b8b6d76"
   },
   "outputs": [
    {
     "data": {
      "image/png": "[encoded data removed]",
      "text/plain": [
       "<Figure size 700x500 with 1 Axes>"
      ]
     },
     "metadata": {},
     "output_type": "display_data"
    }
   ],
   "source": [
    "# display a bar chart of the distribution\n",
    "plt.figure(figsize = (7, 5))\n",
    "\n",
    "# define colors\n",
    "colors = ['#528CAD' if (x < max(class_counts)) else '#FF914D' for x in class_counts]\n",
    "\n",
    "ax = sns.countplot(x=raw_data['Aspect Category1'],\n",
    "                   data=raw_data,\n",
    "                   palette=colors)\n",
    "ax.set(title='Imbalanced Class Distribution')\n",
    "\n",
    "# place labels above each bar\n",
    "vals = class_counts.to_list()\n",
    "vals.sort()\n",
    "ax_labels = vals\n",
    "rects = ax.patches\n",
    "labels = [ax_labels[i] for i in range(len(rects))]\n",
    "\n",
    "for rect, label in zip(rects, labels):\n",
    "    height = rect.get_height()\n",
    "    ax.text(\n",
    "        rect.get_x() + rect.get_width() / 2, height + 5, label, ha=\"center\", va=\"bottom\"\n",
    "    )\n",
    "\n",
    "# edit x-tick labels\n",
    "ax.set_xticklabels(['0 (Company_Service  )', \"1 (App_Utility)\",\"2 (service_quality )\",\"3 (service_person_attitude)\",\"4 (Cost  )\",\"5 (App_UI )\",\"6 (App_Functionality  )\",\"7 (service_schedule )\",\"8 (Payment )\",\"9 (Customer_Support )\"],rotation=45, ha=\"right\")\n",
    "\n",
    "# y-axis label\n",
    "ax.set_ylabel(\"Counts\")\n",
    "\n",
    "plt.show()"
   ]
  },
  {
   "cell_type": "markdown",
   "metadata": {
    "id": "KlmxPImF2MMs"
   },
   "source": [
    "**Handling catgories **"
   ]
  },
  {
   "cell_type": "code",
   "execution_count": 14,
   "metadata": {
    "colab": {
     "base_uri": "https://localhost:8080/"
    },
    "id": "WTxOaDIN_G-o",
    "outputId": "4aeffdb3-a636-4349-df0a-9805e5f6e544"
   },
   "outputs": [
    {
     "name": "stdout",
     "output_type": "stream",
     "text": [
      "Count of 'App_Utility': 2102\n",
      "Count of 'service_quality': 2435\n",
      "Count of 'service_person_attitude': 2348\n",
      "Count of 'Cost': 2270\n",
      "Count of 'App_UI': 2106\n",
      "Count of 'App_Functionality': 2071\n",
      "Count of 'service_schedule': 2188\n",
      "Count of 'Customer_Support': 2020\n",
      "Count of 'Payment': 2102\n",
      "Total count after upsampling: 22079\n"
     ]
    }
   ],
   "source": [
    "from sklearn.utils import resample\n",
    "import pandas as pd\n",
    "import numpy as np\n",
    "\n",
    "# Assuming raw_data is your DataFrame\n",
    "\n",
    "# List of categories to upsample\n",
    "categories_to_upsample = ['App_Utility', 'service_quality', 'service_person_attitude', 'Cost', 'App_UI', 'App_Functionality', 'service_schedule', 'Customer_Support', 'Payment']\n",
    "\n",
    "# Unique values in the 'polarity' column (assuming it has two values, e.g., 'positive' and 'negative')\n",
    "#polarity_values = ['positive', 'negative']\n",
    "\n",
    "# Empty DataFrame to store the upsampled data\n",
    "upsampled_data = pd.DataFrame()\n",
    "\n",
    "np.random.seed(42)\n",
    "\n",
    "for category in categories_to_upsample:\n",
    "    #for polarity_value in polarity_values:\n",
    "        # Calculate the number of samples needed for each category and polarity\n",
    "        target_count = np.random.randint(2000, 2501)\n",
    "\n",
    "        # Upsample the minority class for each category and polarity\n",
    "        upsampled_category = resample(\n",
    "            raw_data[(raw_data['Aspect Category1'] == category)],\n",
    "            replace=True,\n",
    "            n_samples=target_count,\n",
    "            random_state=42\n",
    "        )\n",
    "\n",
    "        # Concatenate the upsampled category and polarity with the rest of the data\n",
    "        upsampled_data = pd.concat([upsampled_data, upsampled_category])\n",
    "\n",
    "# Combine the upsampled minority classes with the rest of the data\n",
    "dataset = pd.concat([raw_data[~raw_data['Aspect Category1'].isin(categories_to_upsample)], upsampled_data])\n",
    "\n",
    "# Print the count after upsampling for each category and polarity\n",
    "for category in categories_to_upsample:\n",
    "    #for polarity_value in polarity_values:\n",
    "        count = len(upsampled_data[(upsampled_data['Aspect Category1'] == category)])\n",
    "        print(f\"Count of '{category}': {count}\")\n",
    "\n",
    "\n",
    "# Print the total count after upsampling\n",
    "print(f\"Total count after upsampling: {len(dataset)}\")\n",
    "\n"
   ]
  },
  {
   "cell_type": "code",
   "execution_count": null,
   "metadata": {
    "id": "Xmq_6pT0YOmw"
   },
   "outputs": [],
   "source": []
  },
  {
   "cell_type": "markdown",
   "metadata": {
    "id": "Tbn4rnW6YMla"
   },
   "source": [
    "**Aspectpolairty1**"
   ]
  },
  {
   "cell_type": "code",
   "execution_count": 15,
   "metadata": {
    "id": "R5HmLO4-ZAFM"
   },
   "outputs": [],
   "source": [
    "class_counts = dataset['AspectPolarity1'].value_counts()"
   ]
  },
  {
   "cell_type": "code",
   "execution_count": 17,
   "metadata": {
    "colab": {
     "base_uri": "https://localhost:8080/"
    },
    "id": "1mxJ_nPEZEwl",
    "outputId": "4676385c-34af-4d78-fb6a-ffac1d59ffd4"
   },
   "outputs": [
    {
     "data": {
      "text/plain": [
       "positive    13815\n",
       "negative     8264\n",
       "Name: AspectPolarity1, dtype: int64"
      ]
     },
     "execution_count": 17,
     "metadata": {},
     "output_type": "execute_result"
    }
   ],
   "source": [
    "class_counts"
   ]
  },
  {
   "cell_type": "code",
   "execution_count": 22,
   "metadata": {
    "id": "9B4CZGH__y3l"
   },
   "outputs": [],
   "source": [
    "dataset.to_excel(\"separate_Upsampled_Dataset.xlsx\",\n",
    "                 header=True,\n",
    "                 index=False)"
   ]
  }
 ],
 "metadata": {
  "colab": {
   "provenance": []
  },
  "kernelspec": {
   "display_name": "Python 3",
   "name": "python3"
  },
  "language_info": {
   "name": "python"
  }
 },
 "nbformat": 4,
 "nbformat_minor": 0
}
